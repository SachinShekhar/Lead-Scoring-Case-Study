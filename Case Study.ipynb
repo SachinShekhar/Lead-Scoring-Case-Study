{
 "cells": [
  {
   "cell_type": "markdown",
   "metadata": {},
   "source": [
    "# Lead Scoring Case Study"
   ]
  },
  {
   "cell_type": "code",
   "execution_count": 1,
   "metadata": {},
   "outputs": [],
   "source": [
    "# Importing essential libraries\n",
    "import numpy as np\n",
    "import pandas as pd"
   ]
  },
  {
   "cell_type": "markdown",
   "metadata": {},
   "source": [
    "## Exploratory Data Analysis"
   ]
  },
  {
   "cell_type": "markdown",
   "metadata": {},
   "source": [
    "### Loading Data"
   ]
  },
  {
   "cell_type": "code",
   "execution_count": 2,
   "metadata": {},
   "outputs": [
    {
     "data": {
      "text/html": [
       "<div>\n",
       "<style scoped>\n",
       "    .dataframe tbody tr th:only-of-type {\n",
       "        vertical-align: middle;\n",
       "    }\n",
       "\n",
       "    .dataframe tbody tr th {\n",
       "        vertical-align: top;\n",
       "    }\n",
       "\n",
       "    .dataframe thead th {\n",
       "        text-align: right;\n",
       "    }\n",
       "</style>\n",
       "<table border=\"1\" class=\"dataframe\">\n",
       "  <thead>\n",
       "    <tr style=\"text-align: right;\">\n",
       "      <th></th>\n",
       "      <th>Prospect ID</th>\n",
       "      <th>Lead Number</th>\n",
       "      <th>Lead Origin</th>\n",
       "      <th>Lead Source</th>\n",
       "      <th>Do Not Email</th>\n",
       "      <th>Do Not Call</th>\n",
       "      <th>Converted</th>\n",
       "      <th>TotalVisits</th>\n",
       "      <th>Total Time Spent on Website</th>\n",
       "      <th>Page Views Per Visit</th>\n",
       "      <th>...</th>\n",
       "      <th>Get updates on DM Content</th>\n",
       "      <th>Lead Profile</th>\n",
       "      <th>City</th>\n",
       "      <th>Asymmetrique Activity Index</th>\n",
       "      <th>Asymmetrique Profile Index</th>\n",
       "      <th>Asymmetrique Activity Score</th>\n",
       "      <th>Asymmetrique Profile Score</th>\n",
       "      <th>I agree to pay the amount through cheque</th>\n",
       "      <th>A free copy of Mastering The Interview</th>\n",
       "      <th>Last Notable Activity</th>\n",
       "    </tr>\n",
       "  </thead>\n",
       "  <tbody>\n",
       "    <tr>\n",
       "      <th>0</th>\n",
       "      <td>7927b2df-8bba-4d29-b9a2-b6e0beafe620</td>\n",
       "      <td>660737</td>\n",
       "      <td>API</td>\n",
       "      <td>Olark Chat</td>\n",
       "      <td>No</td>\n",
       "      <td>No</td>\n",
       "      <td>0</td>\n",
       "      <td>0.0</td>\n",
       "      <td>0</td>\n",
       "      <td>0.0</td>\n",
       "      <td>...</td>\n",
       "      <td>No</td>\n",
       "      <td>Select</td>\n",
       "      <td>Select</td>\n",
       "      <td>02.Medium</td>\n",
       "      <td>02.Medium</td>\n",
       "      <td>15.0</td>\n",
       "      <td>15.0</td>\n",
       "      <td>No</td>\n",
       "      <td>No</td>\n",
       "      <td>Modified</td>\n",
       "    </tr>\n",
       "    <tr>\n",
       "      <th>1</th>\n",
       "      <td>2a272436-5132-4136-86fa-dcc88c88f482</td>\n",
       "      <td>660728</td>\n",
       "      <td>API</td>\n",
       "      <td>Organic Search</td>\n",
       "      <td>No</td>\n",
       "      <td>No</td>\n",
       "      <td>0</td>\n",
       "      <td>5.0</td>\n",
       "      <td>674</td>\n",
       "      <td>2.5</td>\n",
       "      <td>...</td>\n",
       "      <td>No</td>\n",
       "      <td>Select</td>\n",
       "      <td>Select</td>\n",
       "      <td>02.Medium</td>\n",
       "      <td>02.Medium</td>\n",
       "      <td>15.0</td>\n",
       "      <td>15.0</td>\n",
       "      <td>No</td>\n",
       "      <td>No</td>\n",
       "      <td>Email Opened</td>\n",
       "    </tr>\n",
       "    <tr>\n",
       "      <th>2</th>\n",
       "      <td>8cc8c611-a219-4f35-ad23-fdfd2656bd8a</td>\n",
       "      <td>660727</td>\n",
       "      <td>Landing Page Submission</td>\n",
       "      <td>Direct Traffic</td>\n",
       "      <td>No</td>\n",
       "      <td>No</td>\n",
       "      <td>1</td>\n",
       "      <td>2.0</td>\n",
       "      <td>1532</td>\n",
       "      <td>2.0</td>\n",
       "      <td>...</td>\n",
       "      <td>No</td>\n",
       "      <td>Potential Lead</td>\n",
       "      <td>Mumbai</td>\n",
       "      <td>02.Medium</td>\n",
       "      <td>01.High</td>\n",
       "      <td>14.0</td>\n",
       "      <td>20.0</td>\n",
       "      <td>No</td>\n",
       "      <td>Yes</td>\n",
       "      <td>Email Opened</td>\n",
       "    </tr>\n",
       "    <tr>\n",
       "      <th>3</th>\n",
       "      <td>0cc2df48-7cf4-4e39-9de9-19797f9b38cc</td>\n",
       "      <td>660719</td>\n",
       "      <td>Landing Page Submission</td>\n",
       "      <td>Direct Traffic</td>\n",
       "      <td>No</td>\n",
       "      <td>No</td>\n",
       "      <td>0</td>\n",
       "      <td>1.0</td>\n",
       "      <td>305</td>\n",
       "      <td>1.0</td>\n",
       "      <td>...</td>\n",
       "      <td>No</td>\n",
       "      <td>Select</td>\n",
       "      <td>Mumbai</td>\n",
       "      <td>02.Medium</td>\n",
       "      <td>01.High</td>\n",
       "      <td>13.0</td>\n",
       "      <td>17.0</td>\n",
       "      <td>No</td>\n",
       "      <td>No</td>\n",
       "      <td>Modified</td>\n",
       "    </tr>\n",
       "    <tr>\n",
       "      <th>4</th>\n",
       "      <td>3256f628-e534-4826-9d63-4a8b88782852</td>\n",
       "      <td>660681</td>\n",
       "      <td>Landing Page Submission</td>\n",
       "      <td>Google</td>\n",
       "      <td>No</td>\n",
       "      <td>No</td>\n",
       "      <td>1</td>\n",
       "      <td>2.0</td>\n",
       "      <td>1428</td>\n",
       "      <td>1.0</td>\n",
       "      <td>...</td>\n",
       "      <td>No</td>\n",
       "      <td>Select</td>\n",
       "      <td>Mumbai</td>\n",
       "      <td>02.Medium</td>\n",
       "      <td>01.High</td>\n",
       "      <td>15.0</td>\n",
       "      <td>18.0</td>\n",
       "      <td>No</td>\n",
       "      <td>No</td>\n",
       "      <td>Modified</td>\n",
       "    </tr>\n",
       "  </tbody>\n",
       "</table>\n",
       "<p>5 rows × 37 columns</p>\n",
       "</div>"
      ],
      "text/plain": [
       "                            Prospect ID  Lead Number              Lead Origin  \\\n",
       "0  7927b2df-8bba-4d29-b9a2-b6e0beafe620       660737                      API   \n",
       "1  2a272436-5132-4136-86fa-dcc88c88f482       660728                      API   \n",
       "2  8cc8c611-a219-4f35-ad23-fdfd2656bd8a       660727  Landing Page Submission   \n",
       "3  0cc2df48-7cf4-4e39-9de9-19797f9b38cc       660719  Landing Page Submission   \n",
       "4  3256f628-e534-4826-9d63-4a8b88782852       660681  Landing Page Submission   \n",
       "\n",
       "      Lead Source Do Not Email Do Not Call  Converted  TotalVisits  \\\n",
       "0      Olark Chat           No          No          0          0.0   \n",
       "1  Organic Search           No          No          0          5.0   \n",
       "2  Direct Traffic           No          No          1          2.0   \n",
       "3  Direct Traffic           No          No          0          1.0   \n",
       "4          Google           No          No          1          2.0   \n",
       "\n",
       "   Total Time Spent on Website  Page Views Per Visit  ...  \\\n",
       "0                            0                   0.0  ...   \n",
       "1                          674                   2.5  ...   \n",
       "2                         1532                   2.0  ...   \n",
       "3                          305                   1.0  ...   \n",
       "4                         1428                   1.0  ...   \n",
       "\n",
       "  Get updates on DM Content    Lead Profile    City  \\\n",
       "0                        No          Select  Select   \n",
       "1                        No          Select  Select   \n",
       "2                        No  Potential Lead  Mumbai   \n",
       "3                        No          Select  Mumbai   \n",
       "4                        No          Select  Mumbai   \n",
       "\n",
       "  Asymmetrique Activity Index Asymmetrique Profile Index  \\\n",
       "0                   02.Medium                  02.Medium   \n",
       "1                   02.Medium                  02.Medium   \n",
       "2                   02.Medium                    01.High   \n",
       "3                   02.Medium                    01.High   \n",
       "4                   02.Medium                    01.High   \n",
       "\n",
       "  Asymmetrique Activity Score Asymmetrique Profile Score  \\\n",
       "0                        15.0                       15.0   \n",
       "1                        15.0                       15.0   \n",
       "2                        14.0                       20.0   \n",
       "3                        13.0                       17.0   \n",
       "4                        15.0                       18.0   \n",
       "\n",
       "  I agree to pay the amount through cheque  \\\n",
       "0                                       No   \n",
       "1                                       No   \n",
       "2                                       No   \n",
       "3                                       No   \n",
       "4                                       No   \n",
       "\n",
       "  A free copy of Mastering The Interview Last Notable Activity  \n",
       "0                                     No              Modified  \n",
       "1                                     No          Email Opened  \n",
       "2                                    Yes          Email Opened  \n",
       "3                                     No              Modified  \n",
       "4                                     No              Modified  \n",
       "\n",
       "[5 rows x 37 columns]"
      ]
     },
     "execution_count": 2,
     "metadata": {},
     "output_type": "execute_result"
    }
   ],
   "source": [
    "# Loading data\n",
    "df = pd.read_csv('Leads.csv')\n",
    "df.head()"
   ]
  },
  {
   "cell_type": "code",
   "execution_count": 3,
   "metadata": {},
   "outputs": [
    {
     "data": {
      "text/plain": [
       "(9240, 37)"
      ]
     },
     "execution_count": 3,
     "metadata": {},
     "output_type": "execute_result"
    }
   ],
   "source": [
    "df.shape"
   ]
  },
  {
   "cell_type": "markdown",
   "metadata": {},
   "source": [
    "### Cleaning Data"
   ]
  },
  {
   "cell_type": "markdown",
   "metadata": {},
   "source": [
    "#### Duplicate Values"
   ]
  },
  {
   "cell_type": "code",
   "execution_count": 4,
   "metadata": {},
   "outputs": [
    {
     "data": {
      "text/plain": [
       "0"
      ]
     },
     "execution_count": 4,
     "metadata": {},
     "output_type": "execute_result"
    }
   ],
   "source": [
    "df.duplicated().sum()"
   ]
  },
  {
   "cell_type": "markdown",
   "metadata": {},
   "source": [
    "#### Missing Values"
   ]
  },
  {
   "cell_type": "code",
   "execution_count": 5,
   "metadata": {},
   "outputs": [
    {
     "data": {
      "text/plain": [
       "Lead Source                                       0.389610\n",
       "TotalVisits                                       1.482684\n",
       "Page Views Per Visit                              1.482684\n",
       "Last Activity                                     1.114719\n",
       "Country                                          26.634199\n",
       "Specialization                                   15.562771\n",
       "How did you hear about X Education               23.885281\n",
       "What is your current occupation                  29.112554\n",
       "What matters most to you in choosing a course    29.318182\n",
       "Tags                                             36.287879\n",
       "Lead Quality                                     51.590909\n",
       "Lead Profile                                     29.318182\n",
       "City                                             15.367965\n",
       "Asymmetrique Activity Index                      45.649351\n",
       "Asymmetrique Profile Index                       45.649351\n",
       "Asymmetrique Activity Score                      45.649351\n",
       "Asymmetrique Profile Score                       45.649351\n",
       "dtype: float64"
      ]
     },
     "execution_count": 5,
     "metadata": {},
     "output_type": "execute_result"
    }
   ],
   "source": [
    "df_missing = df.isnull().mean() * 100\n",
    "df_missing[df_missing > 0]"
   ]
  },
  {
   "cell_type": "markdown",
   "metadata": {},
   "source": [
    "Large number of missing optional fields have been marked as `Select`. It also needs to be handled."
   ]
  },
  {
   "cell_type": "code",
   "execution_count": 6,
   "metadata": {},
   "outputs": [],
   "source": [
    "df = df.replace({'Select': np.nan})"
   ]
  },
  {
   "cell_type": "code",
   "execution_count": 7,
   "metadata": {},
   "outputs": [
    {
     "data": {
      "text/plain": [
       "Lead Source                                       0.389610\n",
       "TotalVisits                                       1.482684\n",
       "Page Views Per Visit                              1.482684\n",
       "Last Activity                                     1.114719\n",
       "Country                                          26.634199\n",
       "Specialization                                   36.580087\n",
       "How did you hear about X Education               78.463203\n",
       "What is your current occupation                  29.112554\n",
       "What matters most to you in choosing a course    29.318182\n",
       "Tags                                             36.287879\n",
       "Lead Quality                                     51.590909\n",
       "Lead Profile                                     74.188312\n",
       "City                                             39.707792\n",
       "Asymmetrique Activity Index                      45.649351\n",
       "Asymmetrique Profile Index                       45.649351\n",
       "Asymmetrique Activity Score                      45.649351\n",
       "Asymmetrique Profile Score                       45.649351\n",
       "dtype: float64"
      ]
     },
     "execution_count": 7,
     "metadata": {},
     "output_type": "execute_result"
    }
   ],
   "source": [
    "df_missing = df.isnull().mean() * 100\n",
    "df_missing[df_missing > 0]"
   ]
  },
  {
   "cell_type": "markdown",
   "metadata": {},
   "source": [
    "After consulting data dictionary, the columns having more than 40% missing values don't seem important for analysis. So, I am dropping them."
   ]
  },
  {
   "cell_type": "code",
   "execution_count": 8,
   "metadata": {},
   "outputs": [],
   "source": [
    "df.drop(df_missing[df_missing > 40].index, axis=1, inplace=True)"
   ]
  },
  {
   "cell_type": "code",
   "execution_count": 9,
   "metadata": {},
   "outputs": [
    {
     "data": {
      "text/plain": [
       "(9240, 30)"
      ]
     },
     "execution_count": 9,
     "metadata": {},
     "output_type": "execute_result"
    }
   ],
   "source": [
    "df.shape"
   ]
  },
  {
   "cell_type": "code",
   "execution_count": 10,
   "metadata": {},
   "outputs": [
    {
     "data": {
      "text/plain": [
       "Lead Source                                       0.389610\n",
       "TotalVisits                                       1.482684\n",
       "Page Views Per Visit                              1.482684\n",
       "Last Activity                                     1.114719\n",
       "Country                                          26.634199\n",
       "Specialization                                   36.580087\n",
       "What is your current occupation                  29.112554\n",
       "What matters most to you in choosing a course    29.318182\n",
       "Tags                                             36.287879\n",
       "City                                             39.707792\n",
       "dtype: float64"
      ]
     },
     "execution_count": 10,
     "metadata": {},
     "output_type": "execute_result"
    }
   ],
   "source": [
    "df_missing = df.isnull().mean() * 100\n",
    "df_missing[df_missing > 0]"
   ]
  },
  {
   "cell_type": "markdown",
   "metadata": {},
   "source": [
    "Removing rows with small percentage of missing value."
   ]
  },
  {
   "cell_type": "code",
   "execution_count": 11,
   "metadata": {},
   "outputs": [],
   "source": [
    "df = df[df['Lead Source'].notnull() & df['TotalVisits'].notnull() & df['Page Views Per Visit'].notnull() & df['Last Activity']]"
   ]
  },
  {
   "cell_type": "code",
   "execution_count": 12,
   "metadata": {},
   "outputs": [
    {
     "data": {
      "text/plain": [
       "Country                                          25.303064\n",
       "Specialization                                   36.169275\n",
       "What is your current occupation                  29.567996\n",
       "What matters most to you in choosing a course    29.777386\n",
       "Tags                                             36.665197\n",
       "City                                             39.398281\n",
       "dtype: float64"
      ]
     },
     "execution_count": 12,
     "metadata": {},
     "output_type": "execute_result"
    }
   ],
   "source": [
    "df_missing = df.isnull().mean() * 100\n",
    "df_missing[df_missing > 0]"
   ]
  },
  {
   "cell_type": "markdown",
   "metadata": {},
   "source": [
    "Imputing missing values."
   ]
  },
  {
   "cell_type": "code",
   "execution_count": 13,
   "metadata": {},
   "outputs": [
    {
     "data": {
      "text/plain": [
       "India                   95.765713\n",
       "United States            1.017999\n",
       "United Arab Emirates     0.781942\n",
       "Singapore                0.354087\n",
       "Saudi Arabia             0.309826\n",
       "United Kingdom           0.221304\n",
       "Australia                0.191797\n",
       "Qatar                    0.147536\n",
       "Hong Kong                0.103275\n",
       "Bahrain                  0.103275\n",
       "Oman                     0.088522\n",
       "France                   0.088522\n",
       "unknown                  0.073768\n",
       "South Africa             0.059014\n",
       "Nigeria                  0.059014\n",
       "Germany                  0.059014\n",
       "Kuwait                   0.059014\n",
       "Canada                   0.059014\n",
       "Sweden                   0.044261\n",
       "China                    0.029507\n",
       "Asia/Pacific Region      0.029507\n",
       "Uganda                   0.029507\n",
       "Bangladesh               0.029507\n",
       "Italy                    0.029507\n",
       "Belgium                  0.029507\n",
       "Netherlands              0.029507\n",
       "Ghana                    0.029507\n",
       "Philippines              0.029507\n",
       "Russia                   0.014754\n",
       "Switzerland              0.014754\n",
       "Vietnam                  0.014754\n",
       "Denmark                  0.014754\n",
       "Tanzania                 0.014754\n",
       "Liberia                  0.014754\n",
       "Malaysia                 0.014754\n",
       "Kenya                    0.014754\n",
       "Sri Lanka                0.014754\n",
       "Indonesia                0.014754\n",
       "Name: Country, dtype: float64"
      ]
     },
     "execution_count": 13,
     "metadata": {},
     "output_type": "execute_result"
    }
   ],
   "source": [
    "df['Country'].value_counts(normalize=True) * 100"
   ]
  },
  {
   "cell_type": "markdown",
   "metadata": {},
   "source": [
    "The missing value is most likely `India`."
   ]
  },
  {
   "cell_type": "code",
   "execution_count": 14,
   "metadata": {},
   "outputs": [],
   "source": [
    "# Imputing missing value with India\n",
    "df['Country'] = df['Country'].fillna('India')"
   ]
  },
  {
   "cell_type": "code",
   "execution_count": 15,
   "metadata": {},
   "outputs": [
    {
     "data": {
      "text/plain": [
       "Finance Management                   16.557320\n",
       "Human Resource Management            14.450967\n",
       "Marketing Management                 14.209254\n",
       "Operations Management                 8.615331\n",
       "Business Administration               6.888812\n",
       "IT Projects Management                6.319061\n",
       "Supply Chain Management               5.973757\n",
       "Banking, Investment And Insurance     5.783840\n",
       "Travel and Tourism                    3.487569\n",
       "Media and Advertising                 3.487569\n",
       "International Business                3.038674\n",
       "Healthcare Management                 2.693370\n",
       "E-COMMERCE                            1.916436\n",
       "Hospitality Management                1.916436\n",
       "Retail Management                     1.726519\n",
       "Rural and Agribusiness                1.260359\n",
       "E-Business                            0.984116\n",
       "Services Excellence                   0.690608\n",
       "Name: Specialization, dtype: float64"
      ]
     },
     "execution_count": 15,
     "metadata": {},
     "output_type": "execute_result"
    }
   ],
   "source": [
    "df['Specialization'].value_counts(normalize=True) * 100"
   ]
  },
  {
   "cell_type": "markdown",
   "metadata": {},
   "source": [
    "Creating new category for missing value as imputation with mode will create bias against comparable category at rank 2 and 3."
   ]
  },
  {
   "cell_type": "code",
   "execution_count": 16,
   "metadata": {},
   "outputs": [],
   "source": [
    "# Imputing missing value with a new category\n",
    "df['Specialization'] = df['Specialization'].fillna('Others')"
   ]
  },
  {
   "cell_type": "code",
   "execution_count": 17,
   "metadata": {},
   "outputs": [
    {
     "data": {
      "text/plain": [
       "Unemployed              85.682992\n",
       "Working Professional    10.593021\n",
       "Student                  3.223283\n",
       "Other                    0.234705\n",
       "Housewife                0.140823\n",
       "Businessman              0.125176\n",
       "Name: What is your current occupation, dtype: float64"
      ]
     },
     "execution_count": 17,
     "metadata": {},
     "output_type": "execute_result"
    }
   ],
   "source": [
    "df['What is your current occupation'].value_counts(normalize=True) * 100"
   ]
  },
  {
   "cell_type": "markdown",
   "metadata": {},
   "source": [
    "Missing values are most likely `Unemployed`."
   ]
  },
  {
   "cell_type": "code",
   "execution_count": 18,
   "metadata": {},
   "outputs": [],
   "source": [
    "# Imputing missing value with the mode\n",
    "df['What is your current occupation'] = df['What is your current occupation'].fillna('Unemployed')"
   ]
  },
  {
   "cell_type": "code",
   "execution_count": 19,
   "metadata": {},
   "outputs": [
    {
     "data": {
      "text/plain": [
       "Better Career Prospects      99.968613\n",
       "Flexibility & Convenience     0.015694\n",
       "Other                         0.015694\n",
       "Name: What matters most to you in choosing a course, dtype: float64"
      ]
     },
     "execution_count": 19,
     "metadata": {},
     "output_type": "execute_result"
    }
   ],
   "source": [
    "df['What matters most to you in choosing a course'].value_counts(normalize=True) * 100"
   ]
  },
  {
   "cell_type": "code",
   "execution_count": 20,
   "metadata": {},
   "outputs": [
    {
     "data": {
      "text/plain": [
       "Better Career Prospects      6370\n",
       "Flexibility & Convenience       1\n",
       "Other                           1\n",
       "Name: What matters most to you in choosing a course, dtype: int64"
      ]
     },
     "execution_count": 20,
     "metadata": {},
     "output_type": "execute_result"
    }
   ],
   "source": [
    "df['What matters most to you in choosing a course'].value_counts()"
   ]
  },
  {
   "cell_type": "markdown",
   "metadata": {},
   "source": [
    "The missing values are most likely `Better Career Prospects`, but imputing missing values with mode will add no value as the feature is already useless because other categories don't have enough frequency to compete with mode. So, I am dropping this feature."
   ]
  },
  {
   "cell_type": "code",
   "execution_count": 21,
   "metadata": {},
   "outputs": [],
   "source": [
    "df.drop('What matters most to you in choosing a course', axis=1, inplace=True)"
   ]
  },
  {
   "cell_type": "code",
   "execution_count": 22,
   "metadata": {},
   "outputs": [
    {
     "data": {
      "text/plain": [
       "Will revert after reading the email                  35.079172\n",
       "Ringing                                              20.654254\n",
       "Interested in other courses                           8.856795\n",
       "Already a student                                     8.091178\n",
       "Closed by Horizzon                                    5.237515\n",
       "switched off                                          4.176092\n",
       "Busy                                                  3.219071\n",
       "Lost to EINS                                          2.992866\n",
       "Not doing further education                           2.523056\n",
       "Interested  in full time MBA                          2.018444\n",
       "Graduation in progress                                1.931442\n",
       "invalid number                                        1.444232\n",
       "Diploma holder (Not Eligible)                         1.096224\n",
       "wrong number given                                    0.817818\n",
       "opp hangup                                            0.574213\n",
       "number not provided                                   0.435010\n",
       "in touch with EINS                                    0.208805\n",
       "Lost to Others                                        0.121803\n",
       "Still Thinking                                        0.104402\n",
       "Want to take admission but has financial problems     0.104402\n",
       "In confusion whether part time or DLP                 0.087002\n",
       "Interested in Next batch                              0.087002\n",
       "Lateral student                                       0.052201\n",
       "Shall take in the next coming month                   0.034801\n",
       "University not recognized                             0.034801\n",
       "Recognition issue (DEC approval)                      0.017400\n",
       "Name: Tags, dtype: float64"
      ]
     },
     "execution_count": 22,
     "metadata": {},
     "output_type": "execute_result"
    }
   ],
   "source": [
    "df['Tags'].value_counts(normalize=True) * 100"
   ]
  },
  {
   "cell_type": "markdown",
   "metadata": {},
   "source": [
    "The missing values are most likely `Will revert after reading the email`."
   ]
  },
  {
   "cell_type": "code",
   "execution_count": 23,
   "metadata": {},
   "outputs": [],
   "source": [
    "# Imputing missing values with the mode\n",
    "df['Tags'] = df['Tags'].fillna('Will revert after reading the email')"
   ]
  },
  {
   "cell_type": "code",
   "execution_count": 24,
   "metadata": {},
   "outputs": [
    {
     "data": {
      "text/plain": [
       "Mumbai                         57.774141\n",
       "Thane & Outskirts              13.547918\n",
       "Other Cities                   12.365885\n",
       "Other Cities of Maharashtra     8.110566\n",
       "Other Metro Cities              6.855792\n",
       "Tier II Cities                  1.345699\n",
       "Name: City, dtype: float64"
      ]
     },
     "execution_count": 24,
     "metadata": {},
     "output_type": "execute_result"
    }
   ],
   "source": [
    "df['City'].value_counts(normalize=True) * 100"
   ]
  },
  {
   "cell_type": "markdown",
   "metadata": {},
   "source": [
    "The missing values are most likely `Mumbai` if country is `India`. Otherwise, it can be `Other Cities`."
   ]
  },
  {
   "cell_type": "code",
   "execution_count": 25,
   "metadata": {},
   "outputs": [],
   "source": [
    "df['City'] = df['City'].fillna('Missing')\n",
    "df['City'] = df.apply(lambda x: 'Mumbai' if ((x['Country'] == 'India') & (x['City'] == 'Missing')) else ('Other Cities' if (x['City'] == 'Missing') else x['City']), axis=1)"
   ]
  },
  {
   "cell_type": "code",
   "execution_count": 26,
   "metadata": {},
   "outputs": [
    {
     "data": {
      "text/plain": [
       "Mumbai                         73.749173\n",
       "Thane & Outskirts               8.210271\n",
       "Other Cities                    8.155169\n",
       "Other Cities of Maharashtra     4.915142\n",
       "Other Metro Cities              4.154728\n",
       "Tier II Cities                  0.815517\n",
       "Name: City, dtype: float64"
      ]
     },
     "execution_count": 26,
     "metadata": {},
     "output_type": "execute_result"
    }
   ],
   "source": [
    "df['City'].value_counts(normalize=True) * 100"
   ]
  }
 ],
 "metadata": {
  "kernelspec": {
   "display_name": "Python 3.9.12 ('AI')",
   "language": "python",
   "name": "python3"
  },
  "language_info": {
   "codemirror_mode": {
    "name": "ipython",
    "version": 3
   },
   "file_extension": ".py",
   "mimetype": "text/x-python",
   "name": "python",
   "nbconvert_exporter": "python",
   "pygments_lexer": "ipython3",
   "version": "3.9.12"
  },
  "orig_nbformat": 4,
  "vscode": {
   "interpreter": {
    "hash": "868989c899a0c3207264212d7486efd91181af76afa5068d0673cfcd5b617009"
   }
  }
 },
 "nbformat": 4,
 "nbformat_minor": 2
}
